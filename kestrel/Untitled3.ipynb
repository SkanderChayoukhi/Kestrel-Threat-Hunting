{
 "cells": [
  {
   "cell_type": "code",
   "execution_count": 3,
   "id": "1b83ebfb",
   "metadata": {},
   "outputs": [
    {
     "ename": "AttributeError",
     "evalue": "'Session' object has no attribute 'create_stream'",
     "output_type": "error",
     "traceback": [
      "\u001b[0;31m---------------------------------------------------------------------------\u001b[0m",
      "\u001b[0;31mAttributeError\u001b[0m                            Traceback (most recent call last)",
      "Cell \u001b[0;32mIn[3], line 8\u001b[0m\n\u001b[1;32m      6\u001b[0m \u001b[38;5;66;03m# Define a stream to ingest SMS logs\u001b[39;00m\n\u001b[1;32m      7\u001b[0m stream_name \u001b[38;5;241m=\u001b[39m \u001b[38;5;124m\"\u001b[39m\u001b[38;5;124msms_logs\u001b[39m\u001b[38;5;124m\"\u001b[39m\n\u001b[0;32m----> 8\u001b[0m \u001b[43mclient\u001b[49m\u001b[38;5;241;43m.\u001b[39;49m\u001b[43mcreate_stream\u001b[49m(stream_name)\n\u001b[1;32m     10\u001b[0m \u001b[38;5;66;03m# Define a Kestrel query to detect potential smishing attacks\u001b[39;00m\n\u001b[1;32m     11\u001b[0m query \u001b[38;5;241m=\u001b[39m \u001b[38;5;124m\"\"\"\u001b[39m\n\u001b[1;32m     12\u001b[0m \u001b[38;5;124mSELECT *\u001b[39m\n\u001b[1;32m     13\u001b[0m \u001b[38;5;124mFROM sms_logs\u001b[39m\n\u001b[0;32m   (...)\u001b[0m\n\u001b[1;32m     17\u001b[0m \u001b[38;5;124m   OR message LIKE \u001b[39m\u001b[38;5;124m'\u001b[39m\u001b[38;5;132;01m%li\u001b[39;00m\u001b[38;5;124mmited time\u001b[39m\u001b[38;5;124m%\u001b[39m\u001b[38;5;124m'\u001b[39m\n\u001b[1;32m     18\u001b[0m \u001b[38;5;124m\"\"\"\u001b[39m\n",
      "\u001b[0;31mAttributeError\u001b[0m: 'Session' object has no attribute 'create_stream'"
     ]
    }
   ],
   "source": [
    "import kestrel\n",
    "\n",
    "# Create a Kestrel client\n",
    "client = kestrel.Session()\n",
    "\n",
    "# Define a stream to ingest SMS logs\n",
    "stream_name = \"sms_logs\"\n",
    "client.create_stream(stream_name)\n",
    "\n",
    "# Define a Kestrel query to detect potential smishing attacks\n",
    "query = \"\"\"\n",
    "SELECT *\n",
    "FROM sms_logs\n",
    "WHERE message LIKE '%urgent%'\n",
    "   OR message LIKE '%urgent%'\n",
    "   OR message LIKE '%click here%'\n",
    "   OR message LIKE '%limited time%'\n",
    "\"\"\"\n",
    "\n",
    "# Create a Kestrel job to execute the query\n",
    "job_name = \"smishing_detector\"\n",
    "client.create_job(job_name, query)\n",
    "\n",
    "# Ingest sample SMS logs\n",
    "sample_logs = [\n",
    "    {\"message\": \"You've won a free iPhone! Click here to claim: https://phishing-site.com\"},\n",
    "    {\"message\": \"Urgent: Your account is compromised. Verify your details here: https://fake-bank.com\"},\n",
    "    {\"message\": \"Friendly reminder: Pay your bill before the deadline.\"},\n",
    "]\n",
    "\n",
    "for log in sample_logs:\n",
    "    client.write_to_stream(stream_name, log)\n",
    "\n",
    "# Retrieve and print the results of the smishing detection job\n",
    "results = client.read_job_results(job_name)\n",
    "print(results)"
   ]
  }
 ],
 "metadata": {
  "kernelspec": {
   "display_name": "Python 3 (ipykernel)",
   "language": "python",
   "name": "python3"
  },
  "language_info": {
   "codemirror_mode": {
    "name": "ipython",
    "version": 3
   },
   "file_extension": ".py",
   "mimetype": "text/x-python",
   "name": "python",
   "nbconvert_exporter": "python",
   "pygments_lexer": "ipython3",
   "version": "3.12.3"
  }
 },
 "nbformat": 4,
 "nbformat_minor": 5
}
