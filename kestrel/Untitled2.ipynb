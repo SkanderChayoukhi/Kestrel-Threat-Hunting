{
 "cells": [
  {
   "cell_type": "code",
   "execution_count": null,
   "id": "4f207507",
   "metadata": {},
   "outputs": [],
   "source": []
  }
 ],
 "metadata": {
  "kernelspec": {
   "display_name": "Kestrel",
   "language": "kestrel",
   "name": "kestrel"
  },
  "language_info": {
   "file_extension": ".hf",
   "name": "kestrel"
  }
 },
 "nbformat": 4,
 "nbformat_minor": 5
}
