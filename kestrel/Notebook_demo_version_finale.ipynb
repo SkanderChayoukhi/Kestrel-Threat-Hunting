{
 "cells": [
  {
   "cell_type": "markdown",
   "id": "421278a8",
   "metadata": {},
   "source": [
    "# Notebook demo of the possibilities and impossibilities of Kestrel in our case"
   ]
  },
  {
   "cell_type": "markdown",
   "id": "7df78b9f",
   "metadata": {},
   "source": [
    "## I. Add our data"
   ]
  },
  {
   "cell_type": "markdown",
   "id": "a35a2d54",
   "metadata": {},
   "source": [
    "For additional information on how work STIX and how connect your data on Kestrel, you can refer to the wiki of our github project"
   ]
  },
  {
   "cell_type": "markdown",
   "id": "4a96638f",
   "metadata": {},
   "source": [
    "### Firstly, with stix-shifter"
   ]
  },
  {
   "cell_type": "markdown",
   "id": "5e0776ca",
   "metadata": {},
   "source": [
    "Initially, we created the stix-shifter configuration file for a stix-bundle and added the path to our json stix-bundle. We named the profile local_stix, but the call doesn’t work, and we are told that the configuration file cannot be found. However, we did add the path to the file in the required environment variable: KESTREL_STIXSHIFTER_CONFIG.\n",
    "Thus, this method of adding it does not seem to work for stix-bundle."
   ]
  },
  {
   "cell_type": "code",
   "execution_count": 1,
   "id": "70c6db6d",
   "metadata": {},
   "outputs": [
    {
     "name": "stderr",
     "output_type": "stream",
     "text": [
      "[ERROR] InvalidDataSource: invalid data source \"local-stix\" at interface \"stixshifter\". no local-stix configuration found\n",
      "please check data source configuration."
     ]
    }
   ],
   "source": [
    "data1 = GET network-traffic \n",
    "        FROM stixshifter://local-stix \n",
    "        WHERE src_port > 0"
   ]
  },
  {
   "cell_type": "markdown",
   "id": "e4937806",
   "metadata": {},
   "source": [
    "### Secondly, with LOAD command"
   ]
  },
  {
   "cell_type": "markdown",
   "id": "d5973dd9",
   "metadata": {},
   "source": [
    "In Kestrel documentation, it is said that we can add file in our project by using the LOAD command, thus, we tried it with our stix files, but it isn't seen as STIX object and thus can't be processed by other commands as GET, the whole log file is seen as one object."
   ]
  },
  {
   "cell_type": "code",
   "execution_count": 2,
   "id": "2d8d5d69",
   "metadata": {},
   "outputs": [
    {
     "name": "stderr",
     "output_type": "stream",
     "text": []
    },
    {
     "data": {
      "text/html": [
       "<div><h4>Block Executed in 1 seconds</h4><table border=\"1\" class=\"dataframe\">\n",
       "  <thead>\n",
       "    <tr style=\"text-align: right;\">\n",
       "      <th>VARIABLE</th>\n",
       "      <th>TYPE</th>\n",
       "      <th>#(ENTITIES)</th>\n",
       "      <th>#(RECORDS)</th>\n",
       "      <th>bundle*</th>\n",
       "    </tr>\n",
       "  </thead>\n",
       "  <tbody>\n",
       "    <tr>\n",
       "      <td>data2</td>\n",
       "      <td>bundle</td>\n",
       "      <td>1</td>\n",
       "      <td>1</td>\n",
       "      <td>0</td>\n",
       "    </tr>\n",
       "  </tbody>\n",
       "</table><p>*Number of related records cached.</p></div>"
      ]
     },
     "metadata": {},
     "output_type": "display_data"
    }
   ],
   "source": [
    "data2 = LOAD stix-objects/dataMessage.json"
   ]
  },
  {
   "cell_type": "code",
   "execution_count": 3,
   "id": "34cd47cc",
   "metadata": {},
   "outputs": [
    {
     "name": "stderr",
     "output_type": "stream",
     "text": []
    },
    {
     "data": {
      "text/html": [
       "<table border=\"1\" class=\"dataframe\">\n",
       "  <thead>\n",
       "    <tr style=\"text-align: right;\">\n",
       "      <th>id</th>\n",
       "      <th>objects</th>\n",
       "    </tr>\n",
       "  </thead>\n",
       "  <tbody>\n",
       "    <tr>\n",
       "      <td>bundle--4ab84de8-98c7-4a9c-9ff6-f39be7c79a8e</td>\n",
       "      <td>{\"type\":\"observed-data\",\"id\":\"observed-data--a7db3b5c-6d1c-4b9e-8b3a-6f7e716c9fd1\",\"created_by_ref\":\"identity--b3a4c6e0-dc69-4f91-8154-31bfe1d85b37\",\"created\":\"2024-12-12T15:05:00.000Z\",\"modified\":\"2024-12-12T15:05:00.000Z\",\"first_observed\":\"2024-12-12T15:04:45.000Z\",\"last_observed\":\"2024-12-12T15:04:45.000Z\",\"number_observed\":1,\"objects\":{\"0\":{\"type\":\"ipv4-addr\",\"value\":\"203.0.113.1\",\"description\":\"Sender's IP address\"},\"1\":{\"type\":\"ipv4-addr\",\"value\":\"192.168.100.2\",\"description\":\"Recipient's device IP address\"},\"2\":{\"type\":\"user-account\",\"user_id\":\"user12345\",\"account_type\":\"subscriber\",\"display_name\":\"John Doe\",\"description\":\"Subscriber receiving the SMS\"},\"3\":{\"type\":\"network-traffic\",\"start\":\"2024-12-12T15:04:45.000Z\",\"end\":\"2024-12-12T15:04:45.500Z\",\"is_active\":false,\"src_ref\":\"0\",\"dst_ref\":\"1\",\"protocols\":[\"ip\",\"udp\"],\"src_port\":5060,\"dst_port\":2152,\"description\":\"Delivery of SMS over the 5G control plane\"},\"4\":{\"type\":\"artifact\",\"mime_type\":\"text\\/plain\",\"payload_bin\":\"SGVsbG8sIGNvbW1lbnQgdGFsZSBhdXZyZSBsZSBuZXR3b3UgcXVpIGNob2lzaXJhIG5vdHJlIHNvdXJjZSA1Ryw=\",\"description\":\"Contents of the received SMS message\"}}}</td>\n",
       "    </tr>\n",
       "  </tbody>\n",
       "</table>"
      ]
     },
     "metadata": {},
     "output_type": "display_data"
    }
   ],
   "source": [
    "DISP data2"
   ]
  },
  {
   "cell_type": "markdown",
   "id": "2438d153",
   "metadata": {},
   "source": [
    "### The good method : with the GET command"
   ]
  },
  {
   "cell_type": "markdown",
   "id": "bf1d2d14",
   "metadata": {},
   "source": [
    "Finally, it seems that the solution to process stix-bundles is with the GET command. In fact, we can add in the FROM field the path of our data and we can process it. However, we can't add all part of the STIX bundle, only a part of it. Thus, we must filter by a type, for instance network-traffic and therfore we can only access its attributes. Moreover, in the GET command, we need to add the WHERE field, if we want all datas, we can use a case that is allways matched as, for network-traffic entities, src_port > 0"
   ]
  },
  {
   "cell_type": "code",
   "execution_count": 4,
   "id": "81713723",
   "metadata": {},
   "outputs": [
    {
     "name": "stderr",
     "output_type": "stream",
     "text": []
    },
    {
     "data": {
      "text/html": [
       "<div><h4>Block Executed in 2 seconds</h4><table border=\"1\" class=\"dataframe\">\n",
       "  <thead>\n",
       "    <tr style=\"text-align: right;\">\n",
       "      <th>VARIABLE</th>\n",
       "      <th>TYPE</th>\n",
       "      <th>#(ENTITIES)</th>\n",
       "      <th>#(RECORDS)</th>\n",
       "      <th>artifact*</th>\n",
       "      <th>bundle*</th>\n",
       "      <th>domain-name*</th>\n",
       "      <th>file*</th>\n",
       "      <th>ipv4-addr*</th>\n",
       "      <th>mac-addr*</th>\n",
       "      <th>network-traffic*</th>\n",
       "      <th>url*</th>\n",
       "      <th>user-account*</th>\n",
       "    </tr>\n",
       "  </thead>\n",
       "  <tbody>\n",
       "    <tr>\n",
       "      <td>data3</td>\n",
       "      <td>network-traffic</td>\n",
       "      <td>1</td>\n",
       "      <td>1143</td>\n",
       "      <td>1143</td>\n",
       "      <td>0</td>\n",
       "      <td>1143</td>\n",
       "      <td>1143</td>\n",
       "      <td>2286</td>\n",
       "      <td>2286</td>\n",
       "      <td>1142</td>\n",
       "      <td>1143</td>\n",
       "      <td>1143</td>\n",
       "    </tr>\n",
       "  </tbody>\n",
       "</table><p>*Number of related records cached.</p></div>"
      ]
     },
     "metadata": {},
     "output_type": "display_data"
    }
   ],
   "source": [
    "data3 = GET network-traffic \n",
    "        FROM file:///home/vboxuser/Desktop/kestrel/stix-objects/logs_splunk_2.json \n",
    "        WHERE src_port > 0"
   ]
  },
  {
   "cell_type": "code",
   "execution_count": 5,
   "id": "a008f7a9",
   "metadata": {},
   "outputs": [
    {
     "name": "stderr",
     "output_type": "stream",
     "text": []
    },
    {
     "data": {
      "text/html": [
       "<table border=\"1\" class=\"dataframe\">\n",
       "  <tbody>\n",
       "    <tr>\n",
       "      <td>Entity Type</td>\n",
       "      <td>network-traffic</td>\n",
       "    </tr>\n",
       "    <tr>\n",
       "      <td>Number of Entities</td>\n",
       "      <td>1</td>\n",
       "    </tr>\n",
       "    <tr>\n",
       "      <td>Number of Records</td>\n",
       "      <td>1143</td>\n",
       "    </tr>\n",
       "    <tr>\n",
       "      <td>Entity Attributes</td>\n",
       "      <td>dst_port, protocols, src_port, id</td>\n",
       "    </tr>\n",
       "    <tr>\n",
       "      <td>Indirect Attributes</td>\n",
       "      <td>[]</td>\n",
       "    </tr>\n",
       "    <tr>\n",
       "      <td>Customized Attributes</td>\n",
       "      <td></td>\n",
       "    </tr>\n",
       "    <tr>\n",
       "      <td>Birth Command</td>\n",
       "      <td>get</td>\n",
       "    </tr>\n",
       "    <tr>\n",
       "      <td>Associated Datasource</td>\n",
       "      <td>file:///home/vboxuser/Desktop/kestrel/stix-objects/logs_splunk_2.json</td>\n",
       "    </tr>\n",
       "    <tr>\n",
       "      <td>Dependent Variables</td>\n",
       "      <td></td>\n",
       "    </tr>\n",
       "  </tbody>\n",
       "</table>"
      ]
     },
     "metadata": {},
     "output_type": "display_data"
    }
   ],
   "source": [
    "INFO data3"
   ]
  },
  {
   "cell_type": "markdown",
   "id": "6e09c7fa",
   "metadata": {},
   "source": [
    "#### Limitations :\n",
    "1. It is impossible, for now, to access to the url/payload in the network entities for instance and all other entities created by a network traffic, only entities created by processus. However, we can access to the ip"
   ]
  },
  {
   "cell_type": "code",
   "execution_count": 6,
   "id": "f05231d2",
   "metadata": {},
   "outputs": [
    {
     "name": "stderr",
     "output_type": "stream",
     "text": [
      "[ERROR] UnsupportedRelation: unsupported relation \"network-traffic--created--url\"\n",
      "check for supported relations and entity types in the documentation."
     ]
    }
   ],
   "source": [
    "urldata3 = FIND url CREATED BY data3"
   ]
  },
  {
   "cell_type": "code",
   "execution_count": 7,
   "id": "01537de4",
   "metadata": {},
   "outputs": [
    {
     "name": "stderr",
     "output_type": "stream",
     "text": [
      "[ERROR] UnsupportedRelation: unsupported relation \"url--accepted--network-traffic\"\n",
      "check for supported relations and entity types in the documentation."
     ]
    }
   ],
   "source": [
    "urldata3 = FIND url ACCEPTED data3"
   ]
  },
  {
   "cell_type": "code",
   "execution_count": 8,
   "id": "82bb7d50",
   "metadata": {},
   "outputs": [
    {
     "name": "stderr",
     "output_type": "stream",
     "text": []
    },
    {
     "data": {
      "text/html": [
       "<div><h4>Block Executed in 2 seconds</h4><table border=\"1\" class=\"dataframe\">\n",
       "  <thead>\n",
       "    <tr style=\"text-align: right;\">\n",
       "      <th>VARIABLE</th>\n",
       "      <th>TYPE</th>\n",
       "      <th>#(ENTITIES)</th>\n",
       "      <th>#(RECORDS)</th>\n",
       "      <th>artifact*</th>\n",
       "      <th>bundle*</th>\n",
       "      <th>domain-name*</th>\n",
       "      <th>file*</th>\n",
       "      <th>ipv4-addr*</th>\n",
       "      <th>mac-addr*</th>\n",
       "      <th>network-traffic*</th>\n",
       "      <th>url*</th>\n",
       "      <th>user-account*</th>\n",
       "    </tr>\n",
       "  </thead>\n",
       "  <tbody>\n",
       "    <tr>\n",
       "      <td>ipdata3</td>\n",
       "      <td>ipv4-addr</td>\n",
       "      <td>1</td>\n",
       "      <td>2286</td>\n",
       "      <td>2286</td>\n",
       "      <td>0</td>\n",
       "      <td>2286</td>\n",
       "      <td>2286</td>\n",
       "      <td>4571</td>\n",
       "      <td>4572</td>\n",
       "      <td>2286</td>\n",
       "      <td>2286</td>\n",
       "      <td>2286</td>\n",
       "    </tr>\n",
       "  </tbody>\n",
       "</table><p>*Number of related records cached.</p></div>"
      ]
     },
     "metadata": {},
     "output_type": "display_data"
    }
   ],
   "source": [
    "ipdata3 = FIND ipv4-addr ACCEPTED data3"
   ]
  },
  {
   "cell_type": "markdown",
   "id": "1528be45",
   "metadata": {},
   "source": [
    " 2. It is impossible to filter network entities using timestamps not indicated in the network-entities attributes (except timestamp with the START END field). Then, we can't, for instance, filter sms network-traffic by their ip sender (if we imagine that we have access to it)."
   ]
  },
  {
   "cell_type": "code",
   "execution_count": 9,
   "id": "92b0fbe8",
   "metadata": {},
   "outputs": [
    {
     "name": "stderr",
     "output_type": "stream",
     "text": [
      "1:17: no viable alternative at input 'network-traffic:ipv4-addr'"
     ]
    }
   ],
   "source": [
    "ipofnetworktrafic = GET network-traffic \n",
    "                    FROM file:///home/vboxuser/Desktop/kestrel/stix-objects/dataMessage.json \n",
    "                    WHERE ipv4-addr != '0,0,0,0'"
   ]
  },
  {
   "cell_type": "code",
   "execution_count": 10,
   "id": "d219ba35",
   "metadata": {},
   "outputs": [
    {
     "name": "stderr",
     "output_type": "stream",
     "text": [
      "[ERROR] UnsupportedRelation: unsupported relation \"network-traffic--from--ipv4-addr\"\n",
      "check for supported relations and entity types in the documentation."
     ]
    }
   ],
   "source": [
    "test4 = FIND network-traffic FROM ipdata3 WHERE value != \"0.0.0.0\""
   ]
  },
  {
   "cell_type": "markdown",
   "id": "11407d88",
   "metadata": {},
   "source": [
    "Thus, in the context of our scenario, using only Kestrel, it is impossible, for example, to check all network traffic coming from the same person, one of the hypotheses we wanted to use to characterize a smishing attack.\n",
    "Moreover, since we cannot access data beyond what is specified by Kestrel, we cannot, for instance, add phone numbers or SUPIs to identify a user."
   ]
  },
  {
   "cell_type": "markdown",
   "id": "c8b13f73",
   "metadata": {},
   "source": [
    "## II. Process our data to see if our attack scenario is done "
   ]
  },
  {
   "cell_type": "markdown",
   "id": "acf1cc58",
   "metadata": {},
   "source": [
    "#### The github repo kestrel-analytics give us some tools in order to process our data using python functions and docker container usable with the APPLY command"
   ]
  },
  {
   "cell_type": "markdown",
   "id": "b3fbcf01",
   "metadata": {},
   "source": [
    "### Suspicious score done on our data"
   ]
  },
  {
   "cell_type": "markdown",
   "id": "3a3408eb",
   "metadata": {},
   "source": [
    "One of the function of kestrel analytics, which use open source databases of common attack to detect if a process or a network-entities is suspect and give it a score. This tool can be used in our case of detection of smishing. But for now, by seeing the source code, it seems that there are only rules related specifically to the process. However, it seems only possible to add our own rules locally by modifying the python file and the rules.json file but in that case, Kestrel will be useless and it will be more optimal to use directly python to access to all the data of the stix object and don't be limited. For now, for all of our attempts to be suspicious, we had a 0 suspicious score"
   ]
  },
  {
   "cell_type": "code",
   "execution_count": 11,
   "id": "39eb398f",
   "metadata": {
    "scrolled": true
   },
   "outputs": [
    {
     "name": "stderr",
     "output_type": "stream",
     "text": []
    },
    {
     "data": {
      "text/html": [
       "<div><h4>Block Executed in 1 seconds</h4><table border=\"1\" class=\"dataframe\">\n",
       "  <thead>\n",
       "    <tr style=\"text-align: right;\">\n",
       "      <th>VARIABLE</th>\n",
       "      <th>TYPE</th>\n",
       "      <th>#(ENTITIES)</th>\n",
       "      <th>#(RECORDS)</th>\n",
       "      <th>artifact*</th>\n",
       "      <th>bundle*</th>\n",
       "      <th>domain-name*</th>\n",
       "      <th>file*</th>\n",
       "      <th>ipv4-addr*</th>\n",
       "      <th>mac-addr*</th>\n",
       "      <th>network-traffic*</th>\n",
       "      <th>url*</th>\n",
       "      <th>user-account*</th>\n",
       "    </tr>\n",
       "  </thead>\n",
       "  <tbody>\n",
       "    <tr>\n",
       "      <td>data4</td>\n",
       "      <td>network-traffic</td>\n",
       "      <td>3</td>\n",
       "      <td>4</td>\n",
       "      <td>4</td>\n",
       "      <td>0</td>\n",
       "      <td>0</td>\n",
       "      <td>0</td>\n",
       "      <td>7</td>\n",
       "      <td>0</td>\n",
       "      <td>1</td>\n",
       "      <td>0</td>\n",
       "      <td>4</td>\n",
       "    </tr>\n",
       "  </tbody>\n",
       "</table><p>*Number of related records cached.</p></div>"
      ]
     },
     "metadata": {},
     "output_type": "display_data"
    }
   ],
   "source": [
    "data4 = GET network-traffic \n",
    "        FROM file:///home/vboxuser/Desktop/kestrel/stix-objects/dataMessages.json \n",
    "        WHERE src_port > 0"
   ]
  },
  {
   "cell_type": "code",
   "execution_count": 12,
   "id": "5c1edb37",
   "metadata": {},
   "outputs": [
    {
     "name": "stderr",
     "output_type": "stream",
     "text": []
    },
    {
     "data": {
      "text/html": [
       "<table border=\"1\" class=\"dataframe\">\n",
       "  <thead>\n",
       "    <tr style=\"text-align: right;\">\n",
       "      <th>dst_port</th>\n",
       "      <th>protocols</th>\n",
       "      <th>src_port</th>\n",
       "      <th>id</th>\n",
       "      <th>start</th>\n",
       "      <th>end</th>\n",
       "      <th>is_active</th>\n",
       "      <th>description</th>\n",
       "      <th>x_suspicious_score</th>\n",
       "      <th>dst_ref.value</th>\n",
       "      <th>dst_ref.id</th>\n",
       "      <th>dst_ref.description</th>\n",
       "      <th>src_ref.value</th>\n",
       "      <th>src_ref.id</th>\n",
       "      <th>src_ref.description</th>\n",
       "    </tr>\n",
       "  </thead>\n",
       "  <tbody>\n",
       "    <tr>\n",
       "      <td>2152</td>\n",
       "      <td>[\"ip\",\"udp\"]</td>\n",
       "      <td>5060</td>\n",
       "      <td>network-traffic--4e833943-b0b4-5404-a95c-887af3da80af</td>\n",
       "      <td>2024-12-12T15:04:45.000Z</td>\n",
       "      <td>2024-12-12T15:04:45.500Z</td>\n",
       "      <td>0</td>\n",
       "      <td>Delivery of SMS over the 5G control plane</td>\n",
       "      <td>0</td>\n",
       "      <td>None</td>\n",
       "      <td>None</td>\n",
       "      <td>None</td>\n",
       "      <td>None</td>\n",
       "      <td>None</td>\n",
       "      <td>None</td>\n",
       "    </tr>\n",
       "    <tr>\n",
       "      <td>2152</td>\n",
       "      <td>[\"ip\",\"udp\"]</td>\n",
       "      <td>5060</td>\n",
       "      <td>network-traffic--5529dd7a-9c7f-599d-b89f-0c090e761caf</td>\n",
       "      <td>2024-12-12T15:04:45.000Z</td>\n",
       "      <td>2024-12-12T15:04:45.500Z</td>\n",
       "      <td>0</td>\n",
       "      <td>Delivery of SMS over the 5G control plane</td>\n",
       "      <td>0</td>\n",
       "      <td>192.168.100.4</td>\n",
       "      <td>ipv4-addr--4adf17c5-1b00-5546-a6bd-e85e8c7a5e03</td>\n",
       "      <td>Recipient's device IP address</td>\n",
       "      <td>None</td>\n",
       "      <td>None</td>\n",
       "      <td>None</td>\n",
       "    </tr>\n",
       "    <tr>\n",
       "      <td>2152</td>\n",
       "      <td>[\"ip\",\"udp\"]</td>\n",
       "      <td>5060</td>\n",
       "      <td>network-traffic--e7bee814-1b5c-53e4-8e85-58fff53483cd</td>\n",
       "      <td>2024-12-12T15:04:45.000Z</td>\n",
       "      <td>2024-12-12T15:04:45.500Z</td>\n",
       "      <td>0</td>\n",
       "      <td>Delivery of SMS over the 5G control plane</td>\n",
       "      <td>0</td>\n",
       "      <td>203.0.113.1</td>\n",
       "      <td>ipv4-addr--ad74bc22-43d2-52ed-890e-7d382f58e1eb</td>\n",
       "      <td>Sender's IP address</td>\n",
       "      <td>None</td>\n",
       "      <td>None</td>\n",
       "      <td>None</td>\n",
       "    </tr>\n",
       "  </tbody>\n",
       "</table>"
      ]
     },
     "metadata": {},
     "output_type": "display_data"
    }
   ],
   "source": [
    "APPLY docker://susp_scoring ON data4\n",
    "DISP data4"
   ]
  },
  {
   "cell_type": "markdown",
   "id": "11ef72b2",
   "metadata": {},
   "source": [
    "### Domain Enrichment "
   ]
  },
  {
   "cell_type": "markdown",
   "id": "defd6e55",
   "metadata": {},
   "source": [
    "This function can be useful in our case to identify the domain name of each ip in order to be more readable by a human than monitor the data"
   ]
  },
  {
   "cell_type": "code",
   "execution_count": 13,
   "id": "a84c25fa",
   "metadata": {},
   "outputs": [
    {
     "name": "stderr",
     "output_type": "stream",
     "text": []
    },
    {
     "data": {
      "text/html": [
       "<table border=\"1\" class=\"dataframe\">\n",
       "  <thead>\n",
       "    <tr style=\"text-align: right;\">\n",
       "      <th>dst_port</th>\n",
       "      <th>protocols</th>\n",
       "      <th>src_port</th>\n",
       "      <th>id</th>\n",
       "      <th>start</th>\n",
       "      <th>end</th>\n",
       "      <th>is_active</th>\n",
       "      <th>description</th>\n",
       "      <th>x_suspicious_score</th>\n",
       "      <th>x_domain_name</th>\n",
       "      <th>x_domain_organization</th>\n",
       "      <th>dst_ref.value</th>\n",
       "      <th>dst_ref.id</th>\n",
       "      <th>dst_ref.description</th>\n",
       "      <th>src_ref.value</th>\n",
       "      <th>src_ref.id</th>\n",
       "      <th>src_ref.description</th>\n",
       "    </tr>\n",
       "  </thead>\n",
       "  <tbody>\n",
       "    <tr>\n",
       "      <td>2152</td>\n",
       "      <td>[\"ip\",\"udp\"]</td>\n",
       "      <td>5060</td>\n",
       "      <td>network-traffic--4e833943-b0b4-5404-a95c-887af3da80af</td>\n",
       "      <td>2024-12-12T15:04:45.000Z</td>\n",
       "      <td>2024-12-12T15:04:45.500Z</td>\n",
       "      <td>0</td>\n",
       "      <td>Delivery of SMS over the 5G control plane</td>\n",
       "      <td>0</td>\n",
       "      <td></td>\n",
       "      <td></td>\n",
       "      <td>None</td>\n",
       "      <td>None</td>\n",
       "      <td>None</td>\n",
       "      <td>None</td>\n",
       "      <td>None</td>\n",
       "      <td>None</td>\n",
       "    </tr>\n",
       "    <tr>\n",
       "      <td>2152</td>\n",
       "      <td>[\"ip\",\"udp\"]</td>\n",
       "      <td>5060</td>\n",
       "      <td>network-traffic--5529dd7a-9c7f-599d-b89f-0c090e761caf</td>\n",
       "      <td>2024-12-12T15:04:45.000Z</td>\n",
       "      <td>2024-12-12T15:04:45.500Z</td>\n",
       "      <td>0</td>\n",
       "      <td>Delivery of SMS over the 5G control plane</td>\n",
       "      <td>0</td>\n",
       "      <td></td>\n",
       "      <td></td>\n",
       "      <td>192.168.100.4</td>\n",
       "      <td>ipv4-addr--4adf17c5-1b00-5546-a6bd-e85e8c7a5e03</td>\n",
       "      <td>Recipient's device IP address</td>\n",
       "      <td>None</td>\n",
       "      <td>None</td>\n",
       "      <td>None</td>\n",
       "    </tr>\n",
       "    <tr>\n",
       "      <td>2152</td>\n",
       "      <td>[\"ip\",\"udp\"]</td>\n",
       "      <td>5060</td>\n",
       "      <td>network-traffic--e7bee814-1b5c-53e4-8e85-58fff53483cd</td>\n",
       "      <td>2024-12-12T15:04:45.000Z</td>\n",
       "      <td>2024-12-12T15:04:45.500Z</td>\n",
       "      <td>0</td>\n",
       "      <td>Delivery of SMS over the 5G control plane</td>\n",
       "      <td>0</td>\n",
       "      <td></td>\n",
       "      <td></td>\n",
       "      <td>203.0.113.1</td>\n",
       "      <td>ipv4-addr--ad74bc22-43d2-52ed-890e-7d382f58e1eb</td>\n",
       "      <td>Sender's IP address</td>\n",
       "      <td>None</td>\n",
       "      <td>None</td>\n",
       "      <td>None</td>\n",
       "    </tr>\n",
       "  </tbody>\n",
       "</table>"
      ]
     },
     "metadata": {},
     "output_type": "display_data"
    }
   ],
   "source": [
    "APPLY python://domain-enrichment ON data4\n",
    "DISP data4"
   ]
  },
  {
   "cell_type": "markdown",
   "id": "10f8a7e9",
   "metadata": {},
   "source": [
    "### Attribute plot"
   ]
  },
  {
   "cell_type": "markdown",
   "id": "37cb87f1",
   "metadata": {},
   "source": [
    "This function is used to plot attributes. In our case, we can use it to plot and  see visually if their are an anormal number of messages send at a moment. Or plot all the occurences of an ip ."
   ]
  },
  {
   "cell_type": "markdown",
   "id": "6330cf86",
   "metadata": {},
   "source": [
    "Plot of the sms during the time"
   ]
  },
  {
   "cell_type": "code",
   "execution_count": 14,
   "id": "7c789286",
   "metadata": {},
   "outputs": [
    {
     "name": "stderr",
     "output_type": "stream",
     "text": [
      "dst_ref.description:1"
     ]
    }
   ],
   "source": [
    "data5 = GET network-traffic\n",
    "            FROM file:///home/vboxuser/Desktop/kestrel/stix-objects/lab101.json\n",
    "            WHERE dst_port > 0\n",
    "            START 2021-04-03T00:00:00Z STOP 2021-04-04T00:00:00Z\n",
    "\n",
    "\n",
    "data5_ts = TIMESTAMPED(data5)\n",
    "        \n",
    "APPLY python://attribute-plot ON data5_ts WITH XPARAM=first_observed, YPARAM=id"
   ]
  },
  {
   "cell_type": "markdown",
   "id": "79bee071",
   "metadata": {},
   "source": [
    "Occurences by ip : "
   ]
  },
  {
   "cell_type": "code",
   "execution_count": 15,
   "id": "9ae50598",
   "metadata": {},
   "outputs": [
    {
     "name": "stderr",
     "output_type": "stream",
     "text": [
      "[ERROR] AnalyticsError: attrib-plot failed: Traceback (most recent call last):\n",
      "  File \"/usr/local/lib/python3.9/site-packages/pandas/core/indexes/base.py\", line 3805, in get_loc\n",
      "    return self._engine.get_loc(casted_key)\n",
      "  File \"index.pyx\", line 167, in pandas._libs.index.IndexEngine.get_loc\n",
      "  File \"index.pyx\", line 196, in pandas._libs.index.IndexEngine.get_loc\n",
      "  File \"pandas/_libs/hashtable_class_helper.pxi\", line 7081, in pandas._libs.hashtable.PyObjectHashTable.get_item\n",
      "  File \"pandas/_libs/hashtable_class_helper.pxi\", line 7089, in pandas._libs.hashtable.PyObjectHashTable.get_item\n",
      "KeyError: 'dst_ref'\n",
      "\n",
      "The above exception was the direct cause of the following exception:\n",
      "\n",
      "Traceback (most recent call last):\n",
      "  File \"/opt/analytics/analytics.py\", line 222, in <module>\n",
      "    fig = analytics(dfi)\n",
      "  File \"/opt/analytics/analytics.py\", line 203, in analytics\n",
      "    x_ftype = feature_type(df, x_col)\n",
      "  File \"/opt/analytics/analytics.py\", line 53, in feature_type\n",
      "    if str(df[column].dtype).startswith(\"datetime\") or is_timestamp(df[column]):\n",
      "  File \"/usr/local/lib/python3.9/site-packages/pandas/core/frame.py\", line 4102, in __getitem__\n",
      "    indexer = self.columns.get_loc(key)\n",
      "  File \"/usr/local/lib/python3.9/site-packages/pandas/core/indexes/base.py\", line 3812, in get_loc\n",
      "    raise KeyError(key) from err\n",
      "KeyError: 'dst_ref'\n",
      "report to analytics developer."
     ]
    }
   ],
   "source": [
    "APPLY docker://attrib-plot ON data4 with XPARAM=dst_ref"
   ]
  },
  {
   "cell_type": "markdown",
   "id": "4fc532e3",
   "metadata": {},
   "source": [
    "### GROUP COMMAND"
   ]
  },
  {
   "cell_type": "markdown",
   "id": "849aecd8",
   "metadata": {},
   "source": [
    "As in SQL, we can group data with some similar particularities"
   ]
  },
  {
   "cell_type": "code",
   "execution_count": 16,
   "id": "d983a3b7",
   "metadata": {},
   "outputs": [
    {
     "name": "stderr",
     "output_type": "stream",
     "text": []
    },
    {
     "data": {
      "text/html": [
       "<div><h4>Block Executed in 1 seconds</h4><table border=\"1\" class=\"dataframe\">\n",
       "  <thead>\n",
       "    <tr style=\"text-align: right;\">\n",
       "      <th>VARIABLE</th>\n",
       "      <th>TYPE</th>\n",
       "      <th>#(ENTITIES)</th>\n",
       "      <th>#(RECORDS)</th>\n",
       "      <th>artifact*</th>\n",
       "      <th>bundle*</th>\n",
       "      <th>directory*</th>\n",
       "      <th>domain-name*</th>\n",
       "      <th>file*</th>\n",
       "      <th>ipv4-addr*</th>\n",
       "      <th>ipv6-addr*</th>\n",
       "      <th>mac-addr*</th>\n",
       "      <th>network-traffic*</th>\n",
       "      <th>process*</th>\n",
       "      <th>url*</th>\n",
       "      <th>user-account*</th>\n",
       "      <th>x-ecs-destination*</th>\n",
       "      <th>x-ecs-network*</th>\n",
       "      <th>x-ecs-process*</th>\n",
       "      <th>x-ecs-source*</th>\n",
       "      <th>x-ecs-user*</th>\n",
       "      <th>x-oca-asset*</th>\n",
       "      <th>x-oca-event*</th>\n",
       "    </tr>\n",
       "  </thead>\n",
       "  <tbody>\n",
       "    <tr>\n",
       "      <td>testv5g</td>\n",
       "      <td>network-traffic</td>\n",
       "      <td>0</td>\n",
       "      <td>1</td>\n",
       "      <td>0</td>\n",
       "      <td>0</td>\n",
       "      <td>0</td>\n",
       "      <td>0</td>\n",
       "      <td>0</td>\n",
       "      <td>0</td>\n",
       "      <td>0</td>\n",
       "      <td>0</td>\n",
       "      <td>0</td>\n",
       "      <td>0</td>\n",
       "      <td>0</td>\n",
       "      <td>0</td>\n",
       "      <td>0</td>\n",
       "      <td>0</td>\n",
       "      <td>0</td>\n",
       "      <td>0</td>\n",
       "      <td>0</td>\n",
       "      <td>0</td>\n",
       "      <td>0</td>\n",
       "    </tr>\n",
       "  </tbody>\n",
       "</table><p>*Number of related records cached.</p></div>"
      ]
     },
     "metadata": {},
     "output_type": "display_data"
    }
   ],
   "source": [
    "testv5g = GROUP data4 BY src_port"
   ]
  },
  {
   "cell_type": "markdown",
   "id": "406fdba5",
   "metadata": {},
   "source": [
    "## III. What is now impossible with Kestrel"
   ]
  },
  {
   "cell_type": "markdown",
   "id": "3d0210c1",
   "metadata": {},
   "source": [
    "Currently, the use of Kestrel seems unfit with 5g data and thus with our 5g attack scenario. In fact, as seen before, we are very limited with the stix entities now defined and the attributes linked to them which limit us to correctly detect an attack.\n",
    "For instance, we can't use the payload of our logs and therefore it make its nearly impossible to establish some stages of the attack scenario. \n",
    "In its current state, Kestrel does not appear to be the optimal choice for this project. Python, for example, seems more suitable for threat hunting on 5G networks. Therefore, we do not recommend using Kestrel for this purpose."
   ]
  }
 ],
 "metadata": {
  "kernelspec": {
   "display_name": "Kestrel",
   "language": "kestrel",
   "name": "kestrel"
  },
  "language_info": {
   "file_extension": ".hf",
   "name": "kestrel"
  }
 },
 "nbformat": 4,
 "nbformat_minor": 5
}
