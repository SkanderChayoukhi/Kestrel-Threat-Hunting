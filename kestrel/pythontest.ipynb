{
 "cells": [
  {
   "cell_type": "markdown",
   "id": "b997095d",
   "metadata": {},
   "source": [
    "# Python code using Kestrel"
   ]
  },
  {
   "cell_type": "markdown",
   "id": "98c6490a",
   "metadata": {},
   "source": [
    "From Python, we can create a Kestrel session that is connected in real-time to our database and access the data from these sessions more freely than with Kestrel."
   ]
  },
  {
   "cell_type": "code",
   "execution_count": 1,
   "id": "2c76c179",
   "metadata": {},
   "outputs": [
    {
     "name": "stdout",
     "output_type": "stream",
     "text": [
      "[{'start': '2024-12-12T15:04:45.000Z', 'end': '2024-12-12T15:04:45.500Z', 'is_active': 0, 'protocols': '[\"ip\",\"udp\"]', 'src_port': 5060, 'dst_port': 2152, 'description': 'Delivery of SMS over the 5G control plane', 'id': 'network-traffic--4e833943-b0b4-5404-a95c-887af3da80af', 'dst_ref.value': None, 'dst_ref.description': None, 'dst_ref.id': None, 'type': 'network-traffic'}, {'start': '2024-12-12T15:04:45.000Z', 'end': '2024-12-12T15:04:45.500Z', 'is_active': 0, 'protocols': '[\"ip\",\"udp\"]', 'src_port': 5060, 'dst_port': 2152, 'description': 'Delivery of SMS over the 5G control plane', 'id': 'network-traffic--5529dd7a-9c7f-599d-b89f-0c090e761caf', 'dst_ref.value': '192.168.100.4', 'dst_ref.description': \"Recipient's device IP address\", 'dst_ref.id': 'ipv4-addr--4adf17c5-1b00-5546-a6bd-e85e8c7a5e03', 'type': 'network-traffic'}, {'start': '2024-12-12T15:04:45.000Z', 'end': '2024-12-12T15:04:45.500Z', 'is_active': 0, 'protocols': '[\"ip\",\"udp\"]', 'src_port': 5060, 'dst_port': 2152, 'description': 'Delivery of SMS over the 5G control plane', 'id': 'network-traffic--e7bee814-1b5c-53e4-8e85-58fff53483cd', 'dst_ref.value': '203.0.113.1', 'dst_ref.description': \"Sender's IP address\", 'dst_ref.id': 'ipv4-addr--ad74bc22-43d2-52ed-890e-7d382f58e1eb', 'type': 'network-traffic'}]\n"
     ]
    }
   ],
   "source": [
    "from kestrel.session import Session\n",
    "huntflow = \"\"\"testv3 = GET network-traffic FROM file:///home/vboxuser/Desktop/kestrel/stix-objects/dataMessages.json WHERE src_port > 0\"\"\"\n",
    "with Session() as session:\n",
    "    session.execute(huntflow)\n",
    "    sms_data = session.get_variable(\"testv3\")\n",
    "print (sms_data)"
   ]
  },
  {
   "cell_type": "code",
   "execution_count": 2,
   "id": "03eeded1",
   "metadata": {},
   "outputs": [
    {
     "name": "stdout",
     "output_type": "stream",
     "text": [
      "suspicion d'attaque par 192.168.100.4\n",
      "suspicion d'attaque par 203.0.113.1\n"
     ]
    }
   ],
   "source": [
    "def count_src_ip_occurrences(sms_data, thresh):\n",
    "    src_ip_counts = {}\n",
    "    \n",
    "    for sms in sms_data:\n",
    "        ip_src = sms[\"dst_ref.value\"]\n",
    "        if ip_src != None : \n",
    "            if ip_src in src_ip_counts:\n",
    "                src_ip_counts[ip_src] += 1\n",
    "            else :\n",
    "                src_ip_counts[ip_src] = 1\n",
    "            if src_ip_counts[ip_src] >= thresh : \n",
    "                print(\"suspicion d'attaque par \" + ip_src)\n",
    "\n",
    "count_src_ip_occurrences(sms_data, 1)"
   ]
  },
  {
   "cell_type": "markdown",
   "id": "8618f9b9",
   "metadata": {},
   "source": [
    "### Limitations:\n",
    "As in kestrel, we can't access to other types defined such as artifact in which there are the payload and we can't access raw data to, for instance, find a malicious signature at a defined offset"
   ]
  },
  {
   "cell_type": "markdown",
   "id": "27afce60",
   "metadata": {},
   "source": [
    "Other use of python with Kestrel"
   ]
  },
  {
   "cell_type": "code",
   "execution_count": 3,
   "id": "421b72cd",
   "metadata": {},
   "outputs": [
    {
     "name": "stdout",
     "output_type": "stream",
     "text": [
      "Recipient's device IP address : 192.168.100.2\n",
      "Sender's IP address : 203.0.113.1\n"
     ]
    }
   ],
   "source": [
    "from kestrel.session import Session\n",
    "huntflow = \"\"\"testv3 = GET ipv4-addr FROM file:///home/vboxuser/Desktop/kestrel/stix-objects/dataMessage.json WHERE value != \"0\" \"\"\"\n",
    "with Session() as session:\n",
    "    session.execute(huntflow)\n",
    "    sms_data = session.get_variable(\"testv3\")\n",
    "for sms in sms_data:\n",
    "    print(sms[\"description\"] + \" : \" +sms[\"value\"])"
   ]
  }
 ],
 "metadata": {
  "kernelspec": {
   "display_name": "Python 3 (ipykernel)",
   "language": "python",
   "name": "python3"
  },
  "language_info": {
   "codemirror_mode": {
    "name": "ipython",
    "version": 3
   },
   "file_extension": ".py",
   "mimetype": "text/x-python",
   "name": "python",
   "nbconvert_exporter": "python",
   "pygments_lexer": "ipython3",
   "version": "3.12.3"
  }
 },
 "nbformat": 4,
 "nbformat_minor": 5
}
