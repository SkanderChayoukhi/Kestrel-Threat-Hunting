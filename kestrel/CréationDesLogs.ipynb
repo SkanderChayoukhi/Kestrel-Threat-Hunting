{
 "cells": [
  {
   "cell_type": "markdown",
   "id": "2b3dc9d1",
   "metadata": {},
   "source": [
    "# Créations des logs"
   ]
  },
  {
   "cell_type": "markdown",
   "id": "32c939e6",
   "metadata": {},
   "source": [
    "### importation des biblithèques"
   ]
  },
  {
   "cell_type": "code",
   "execution_count": 1,
   "id": "d0d45046",
   "metadata": {},
   "outputs": [],
   "source": [
    "import pandas as pd"
   ]
  },
  {
   "cell_type": "markdown",
   "id": "ada42848",
   "metadata": {},
   "source": [
    "## Stage 1"
   ]
  },
  {
   "cell_type": "code",
   "execution_count": 2,
   "id": "946f7d60",
   "metadata": {},
   "outputs": [],
   "source": [
    "sms_logs = [\n",
    "    {\"timestamp\": \"2024-11-21T10:00:00\", \"sender\": \"+12345678901\", \"receiver\": \"+12345000123\", \n",
    "     \"message_content\": \"Click here: http://malicious.link/abc\", \"phone_number_range\": \"12345000-12345999\"},\n",
    "    {\"timestamp\": \"2024-11-21T10:01:00\", \"sender\": \"+12345678902\", \"receiver\": \"+12345000124\", \n",
    "     \"message_content\": \"You won a prize! Visit http://bit.ly/xyz\", \"phone_number_range\": \"12345000-12345999\"},\n",
    "    {\"timestamp\": \"2024-11-21T10:02:00\", \"sender\": \"+12345678901\", \"receiver\": \"+12345000125\", \n",
    "     \"message_content\": \"Hello, check this out: http://fake.url\", \"phone_number_range\": \"12345000-12345999\"},\n",
    "    {\"timestamp\": \"2024-11-21T10:03:00\", \"sender\": \"+12345678903\", \"receiver\": \"+12345000126\", \n",
    "     \"message_content\": \"Your package is delayed: http://malicious.link/xyz\", \"phone_number_range\": \"12345000-12345999\"},\n",
    "    {\"timestamp\": \"2024-11-21T10:04:00\", \"sender\": \"+12345678901\", \"receiver\": \"+12345000127\", \n",
    "     \"message_content\": \"Hello there!\", \"phone_number_range\": \"12345000-12345999\"},\n",
    "]"
   ]
  },
  {
   "cell_type": "markdown",
   "id": "1b1606ea",
   "metadata": {},
   "source": [
    "## Stage 2"
   ]
  },
  {
   "cell_type": "code",
   "execution_count": 3,
   "id": "20a6b1dc",
   "metadata": {},
   "outputs": [],
   "source": [
    "dns_logs = [\n",
    "    {\"timestamp\": \"2024-11-21T10:00:00\", \"source_ip\": \"192.168.1.10\", \"query\": \"suspicious-domain.com\", \n",
    "     \"query_rate\": 150, \"destination_dns_server\": \"8.8.8.8\", \"domain_behavior\": \"suspicious\"},\n",
    "    {\"timestamp\": \"2024-11-21T10:01:00\", \"source_ip\": \"192.168.1.11\", \"query\": \"legitimate-domain.com\", \n",
    "     \"query_rate\": 10, \"destination_dns_server\": \"192.168.1.1\", \"domain_behavior\": \"normal\"},\n",
    "    {\"timestamp\": \"2024-11-21T10:02:00\", \"source_ip\": \"192.168.1.12\", \"query\": \"dga-domain.abc\", \n",
    "     \"query_rate\": 300, \"destination_dns_server\": \"8.8.4.4\", \"domain_behavior\": \"suspicious\"},\n",
    "    {\"timestamp\": \"2024-11-21T10:03:00\", \"source_ip\": \"192.168.1.13\", \"query\": \"encrypted-dns.example\", \n",
    "     \"query_rate\": 20, \"destination_dns_server\": \"1.1.1.1\", \"domain_behavior\": \"normal\"},\n",
    "    {\"timestamp\": \"2024-11-21T10:04:00\", \"source_ip\": \"192.168.1.14\", \"query\": \"dga-domain.def\", \n",
    "     \"query_rate\": 250, \"destination_dns_server\": \"8.8.8.8\", \"domain_behavior\": \"suspicious\"},\n",
    "]"
   ]
  },
  {
   "cell_type": "markdown",
   "id": "0e640ad1",
   "metadata": {},
   "source": [
    "## Stage 3"
   ]
  },
  {
   "cell_type": "code",
   "execution_count": 4,
   "id": "69cf6002",
   "metadata": {},
   "outputs": [],
   "source": [
    "network_logs = [\n",
    "    {\"timestamp\": \"2024-11-21T10:00:00\", \"source_ip\": \"192.168.1.10\", \"destination_ip\": \"203.0.113.10\", \n",
    "     \"traffic_volume\": \"500MB\", \"traffic_pattern\": \"coordinated_ddos\"},\n",
    "    {\"timestamp\": \"2024-11-21T10:01:00\", \"source_ip\": \"192.168.1.11\", \"destination_ip\": \"203.0.113.11\", \n",
    "     \"traffic_volume\": \"50MB\", \"traffic_pattern\": \"normal\"},\n",
    "    {\"timestamp\": \"2024-11-21T10:02:00\", \"source_ip\": \"192.168.1.12\", \"destination_ip\": \"203.0.113.12\", \n",
    "     \"traffic_volume\": \"600MB\", \"traffic_pattern\": \"coordinated_ddos\"},\n",
    "    {\"timestamp\": \"2024-11-21T10:03:00\", \"source_ip\": \"192.168.1.13\", \"destination_ip\": \"203.0.113.13\", \n",
    "     \"traffic_volume\": \"10MB\", \"traffic_pattern\": \"normal\"},\n",
    "    {\"timestamp\": \"2024-11-21T10:04:00\", \"source_ip\": \"192.168.1.14\", \"destination_ip\": \"203.0.113.14\", \n",
    "     \"traffic_volume\": \"550MB\", \"traffic_pattern\": \"coordinated_ddos\"},\n",
    "]\n"
   ]
  },
  {
   "cell_type": "markdown",
   "id": "495352b8",
   "metadata": {},
   "source": [
    "### Mettre au format STIX"
   ]
  },
  {
   "cell_type": "code",
   "execution_count": 5,
   "id": "abf3ecda",
   "metadata": {},
   "outputs": [],
   "source": [
    "def estimate_byte_count(message):\n",
    "    return len(message.encode('utf-8'))\n",
    "\n",
    "sms_logs = pd.DataFrame(sms_logs)\n",
    "\n",
    "stix_sms_logs = pd.DataFrame({\n",
    "    'src_ref.value': sms_logs['sender'],\n",
    "    'src_port': None,  \n",
    "    'dst_ref.value': sms_logs['receiver'],\n",
    "    'dst_port': None,  \n",
    "    'protocols': ['sms'] * len(sms_logs),\n",
    "    'src_byte_count': sms_logs['message_content'].apply(estimate_byte_count),\n",
    "    'dst_byte_count': sms_logs['message_content'].apply(estimate_byte_count),  \n",
    "})"
   ]
  },
  {
   "cell_type": "code",
   "execution_count": 7,
   "id": "f37f5f71",
   "metadata": {},
   "outputs": [
    {
     "ename": "KeyError",
     "evalue": "'destination_ip'",
     "output_type": "error",
     "traceback": [
      "\u001b[0;31m---------------------------------------------------------------------------\u001b[0m",
      "\u001b[0;31mKeyError\u001b[0m                                  Traceback (most recent call last)",
      "File \u001b[0;32m~/huntingspace/lib/python3.12/site-packages/pandas/core/indexes/base.py:3805\u001b[0m, in \u001b[0;36mIndex.get_loc\u001b[0;34m(self, key)\u001b[0m\n\u001b[1;32m   3804\u001b[0m \u001b[38;5;28;01mtry\u001b[39;00m:\n\u001b[0;32m-> 3805\u001b[0m     \u001b[38;5;28;01mreturn\u001b[39;00m \u001b[38;5;28;43mself\u001b[39;49m\u001b[38;5;241;43m.\u001b[39;49m\u001b[43m_engine\u001b[49m\u001b[38;5;241;43m.\u001b[39;49m\u001b[43mget_loc\u001b[49m\u001b[43m(\u001b[49m\u001b[43mcasted_key\u001b[49m\u001b[43m)\u001b[49m\n\u001b[1;32m   3806\u001b[0m \u001b[38;5;28;01mexcept\u001b[39;00m \u001b[38;5;167;01mKeyError\u001b[39;00m \u001b[38;5;28;01mas\u001b[39;00m err:\n",
      "File \u001b[0;32mindex.pyx:167\u001b[0m, in \u001b[0;36mpandas._libs.index.IndexEngine.get_loc\u001b[0;34m()\u001b[0m\n",
      "File \u001b[0;32mindex.pyx:196\u001b[0m, in \u001b[0;36mpandas._libs.index.IndexEngine.get_loc\u001b[0;34m()\u001b[0m\n",
      "File \u001b[0;32mpandas/_libs/hashtable_class_helper.pxi:7081\u001b[0m, in \u001b[0;36mpandas._libs.hashtable.PyObjectHashTable.get_item\u001b[0;34m()\u001b[0m\n",
      "File \u001b[0;32mpandas/_libs/hashtable_class_helper.pxi:7089\u001b[0m, in \u001b[0;36mpandas._libs.hashtable.PyObjectHashTable.get_item\u001b[0;34m()\u001b[0m\n",
      "\u001b[0;31mKeyError\u001b[0m: 'destination_ip'",
      "\nThe above exception was the direct cause of the following exception:\n",
      "\u001b[0;31mKeyError\u001b[0m                                  Traceback (most recent call last)",
      "Cell \u001b[0;32mIn[7], line 6\u001b[0m\n\u001b[1;32m      1\u001b[0m dns_logs \u001b[38;5;241m=\u001b[39m pd\u001b[38;5;241m.\u001b[39mDataFrame(dns_logs)\n\u001b[1;32m      3\u001b[0m stix_dns_logs \u001b[38;5;241m=\u001b[39m pd\u001b[38;5;241m.\u001b[39mDataFrame({\n\u001b[1;32m      4\u001b[0m     \u001b[38;5;124m'\u001b[39m\u001b[38;5;124msrc_ref.value\u001b[39m\u001b[38;5;124m'\u001b[39m: dns_logs[\u001b[38;5;124m'\u001b[39m\u001b[38;5;124msource_ip\u001b[39m\u001b[38;5;124m'\u001b[39m],\n\u001b[1;32m      5\u001b[0m     \u001b[38;5;124m'\u001b[39m\u001b[38;5;124msrc_port\u001b[39m\u001b[38;5;124m'\u001b[39m: \u001b[38;5;28;01mNone\u001b[39;00m,  \n\u001b[0;32m----> 6\u001b[0m     \u001b[38;5;124m'\u001b[39m\u001b[38;5;124mdst_ref.value\u001b[39m\u001b[38;5;124m'\u001b[39m: \u001b[43mdns_logs\u001b[49m\u001b[43m[\u001b[49m\u001b[38;5;124;43m'\u001b[39;49m\u001b[38;5;124;43mdestination_ip\u001b[39;49m\u001b[38;5;124;43m'\u001b[39;49m\u001b[43m]\u001b[49m,\n\u001b[1;32m      7\u001b[0m     \u001b[38;5;124m'\u001b[39m\u001b[38;5;124mdst_port\u001b[39m\u001b[38;5;124m'\u001b[39m: [\u001b[38;5;241m53\u001b[39m]\u001b[38;5;241m*\u001b[39m\u001b[38;5;28mlen\u001b[39m(dns_logs),  \n\u001b[1;32m      8\u001b[0m     \u001b[38;5;124m'\u001b[39m\u001b[38;5;124mprotocols\u001b[39m\u001b[38;5;124m'\u001b[39m: [\u001b[38;5;124m'\u001b[39m\u001b[38;5;124mdns\u001b[39m\u001b[38;5;124m'\u001b[39m]\u001b[38;5;241m*\u001b[39m\u001b[38;5;28mlen\u001b[39m(dns_logs),\n\u001b[1;32m      9\u001b[0m     \u001b[38;5;124m'\u001b[39m\u001b[38;5;124msrc_byte_count\u001b[39m\u001b[38;5;124m'\u001b[39m: dns_logs[\u001b[38;5;124m'\u001b[39m\u001b[38;5;124mtraffic_volume\u001b[39m\u001b[38;5;124m'\u001b[39m],\n\u001b[1;32m     10\u001b[0m     \u001b[38;5;124m'\u001b[39m\u001b[38;5;124mdst_byte_count\u001b[39m\u001b[38;5;124m'\u001b[39m: dns_logs[\u001b[38;5;124m'\u001b[39m\u001b[38;5;124mtraffic_volume\u001b[39m\u001b[38;5;124m'\u001b[39m],  \n\u001b[1;32m     11\u001b[0m })\n",
      "File \u001b[0;32m~/huntingspace/lib/python3.12/site-packages/pandas/core/frame.py:4102\u001b[0m, in \u001b[0;36mDataFrame.__getitem__\u001b[0;34m(self, key)\u001b[0m\n\u001b[1;32m   4100\u001b[0m \u001b[38;5;28;01mif\u001b[39;00m \u001b[38;5;28mself\u001b[39m\u001b[38;5;241m.\u001b[39mcolumns\u001b[38;5;241m.\u001b[39mnlevels \u001b[38;5;241m>\u001b[39m \u001b[38;5;241m1\u001b[39m:\n\u001b[1;32m   4101\u001b[0m     \u001b[38;5;28;01mreturn\u001b[39;00m \u001b[38;5;28mself\u001b[39m\u001b[38;5;241m.\u001b[39m_getitem_multilevel(key)\n\u001b[0;32m-> 4102\u001b[0m indexer \u001b[38;5;241m=\u001b[39m \u001b[38;5;28;43mself\u001b[39;49m\u001b[38;5;241;43m.\u001b[39;49m\u001b[43mcolumns\u001b[49m\u001b[38;5;241;43m.\u001b[39;49m\u001b[43mget_loc\u001b[49m\u001b[43m(\u001b[49m\u001b[43mkey\u001b[49m\u001b[43m)\u001b[49m\n\u001b[1;32m   4103\u001b[0m \u001b[38;5;28;01mif\u001b[39;00m is_integer(indexer):\n\u001b[1;32m   4104\u001b[0m     indexer \u001b[38;5;241m=\u001b[39m [indexer]\n",
      "File \u001b[0;32m~/huntingspace/lib/python3.12/site-packages/pandas/core/indexes/base.py:3812\u001b[0m, in \u001b[0;36mIndex.get_loc\u001b[0;34m(self, key)\u001b[0m\n\u001b[1;32m   3807\u001b[0m     \u001b[38;5;28;01mif\u001b[39;00m \u001b[38;5;28misinstance\u001b[39m(casted_key, \u001b[38;5;28mslice\u001b[39m) \u001b[38;5;129;01mor\u001b[39;00m (\n\u001b[1;32m   3808\u001b[0m         \u001b[38;5;28misinstance\u001b[39m(casted_key, abc\u001b[38;5;241m.\u001b[39mIterable)\n\u001b[1;32m   3809\u001b[0m         \u001b[38;5;129;01mand\u001b[39;00m \u001b[38;5;28many\u001b[39m(\u001b[38;5;28misinstance\u001b[39m(x, \u001b[38;5;28mslice\u001b[39m) \u001b[38;5;28;01mfor\u001b[39;00m x \u001b[38;5;129;01min\u001b[39;00m casted_key)\n\u001b[1;32m   3810\u001b[0m     ):\n\u001b[1;32m   3811\u001b[0m         \u001b[38;5;28;01mraise\u001b[39;00m InvalidIndexError(key)\n\u001b[0;32m-> 3812\u001b[0m     \u001b[38;5;28;01mraise\u001b[39;00m \u001b[38;5;167;01mKeyError\u001b[39;00m(key) \u001b[38;5;28;01mfrom\u001b[39;00m \u001b[38;5;21;01merr\u001b[39;00m\n\u001b[1;32m   3813\u001b[0m \u001b[38;5;28;01mexcept\u001b[39;00m \u001b[38;5;167;01mTypeError\u001b[39;00m:\n\u001b[1;32m   3814\u001b[0m     \u001b[38;5;66;03m# If we have a listlike key, _check_indexing_error will raise\u001b[39;00m\n\u001b[1;32m   3815\u001b[0m     \u001b[38;5;66;03m#  InvalidIndexError. Otherwise we fall through and re-raise\u001b[39;00m\n\u001b[1;32m   3816\u001b[0m     \u001b[38;5;66;03m#  the TypeError.\u001b[39;00m\n\u001b[1;32m   3817\u001b[0m     \u001b[38;5;28mself\u001b[39m\u001b[38;5;241m.\u001b[39m_check_indexing_error(key)\n",
      "\u001b[0;31mKeyError\u001b[0m: 'destination_ip'"
     ]
    }
   ],
   "source": [
    "dns_logs = pd.DataFrame(dns_logs)\n",
    "\n",
    "stix_dns_logs = pd.DataFrame({\n",
    "    'src_ref.value': dns_logs['source_ip'],\n",
    "    'src_port': None,  \n",
    "    'dst_ref.value': dns_logs['destination_ip'],\n",
    "    'dst_port': [53]*len(dns_logs),  \n",
    "    'protocols': ['dns']*len(dns_logs),\n",
    "    'src_byte_count': dns_logs['traffic_volume'],\n",
    "    'dst_byte_count': dns_logs['traffic_volume'],  \n",
    "})"
   ]
  },
  {
   "cell_type": "markdown",
   "id": "7f4d90a7",
   "metadata": {},
   "source": [
    "# Création des csv"
   ]
  },
  {
   "cell_type": "code",
   "execution_count": null,
   "id": "5f519c9a",
   "metadata": {},
   "outputs": [],
   "source": [
    "pd.DataFrame(sms_logs).to_csv('sms_logs.csv', index=False)\n",
    "pd.DataFrame(dns_logs).to_csv('dns_logs.csv', index=False)\n",
    "pd.DataFrame(network_logs).to_csv('network_traffic_logs.csv', index=False)\n",
    "pd.DataFrame(stix_sms_logs).to_csv('stix_sms_logs.csv', index = False)\n",
    "print(\"Logs generated and saved as CSV files.\")"
   ]
  },
  {
   "cell_type": "code",
   "execution_count": null,
   "id": "cf89cda3",
   "metadata": {},
   "outputs": [],
   "source": []
  }
 ],
 "metadata": {
  "kernelspec": {
   "display_name": "Python 3 (ipykernel)",
   "language": "python",
   "name": "python3"
  },
  "language_info": {
   "codemirror_mode": {
    "name": "ipython",
    "version": 3
   },
   "file_extension": ".py",
   "mimetype": "text/x-python",
   "name": "python",
   "nbconvert_exporter": "python",
   "pygments_lexer": "ipython3",
   "version": "3.12.3"
  }
 },
 "nbformat": 4,
 "nbformat_minor": 5
}
