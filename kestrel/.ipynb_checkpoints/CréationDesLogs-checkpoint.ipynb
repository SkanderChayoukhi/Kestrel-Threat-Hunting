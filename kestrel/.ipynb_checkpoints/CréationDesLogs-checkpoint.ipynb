{
 "cells": [
  {
   "cell_type": "markdown",
   "id": "2b3dc9d1",
   "metadata": {},
   "source": [
    "# Créations des logs"
   ]
  },
  {
   "cell_type": "markdown",
   "id": "32c939e6",
   "metadata": {},
   "source": [
    "### importation des biblithèques"
   ]
  },
  {
   "cell_type": "code",
   "execution_count": 1,
   "id": "d0d45046",
   "metadata": {},
   "outputs": [],
   "source": [
    "import pandas as pd"
   ]
  },
  {
   "cell_type": "markdown",
   "id": "ada42848",
   "metadata": {},
   "source": [
    "## Stage 1"
   ]
  },
  {
   "cell_type": "code",
   "execution_count": 4,
   "id": "946f7d60",
   "metadata": {},
   "outputs": [],
   "source": [
    "sms_logs = [\n",
    "    {\"timestamp\": \"2024-11-21T10:00:00\", \"sender\": \"+12345678901\", \"receiver\": \"+12345000123\", \n",
    "     \"message_content\": \"Click here: http://malicious.link/abc\", \"phone_number_range\": \"12345000-12345999\"},\n",
    "    {\"timestamp\": \"2024-11-21T10:01:00\", \"sender\": \"+12345678902\", \"receiver\": \"+12345000124\", \n",
    "     \"message_content\": \"You won a prize! Visit http://bit.ly/xyz\", \"phone_number_range\": \"12345000-12345999\"},\n",
    "    {\"timestamp\": \"2024-11-21T10:02:00\", \"sender\": \"+12345678901\", \"receiver\": \"+12345000125\", \n",
    "     \"message_content\": \"Hello, check this out: http://fake.url\", \"phone_number_range\": \"12345000-12345999\"},\n",
    "    {\"timestamp\": \"2024-11-21T10:03:00\", \"sender\": \"+12345678903\", \"receiver\": \"+12345000126\", \n",
    "     \"message_content\": \"Your package is delayed: http://malicious.link/xyz\", \"phone_number_range\": \"12345000-12345999\"},\n",
    "    {\"timestamp\": \"2024-11-21T10:04:00\", \"sender\": \"+12345678901\", \"receiver\": \"+12345000127\", \n",
    "     \"message_content\": \"Hello there!\", \"phone_number_range\": \"12345000-12345999\"},\n",
    "]"
   ]
  },
  {
   "cell_type": "markdown",
   "id": "1b1606ea",
   "metadata": {},
   "source": [
    "## Stage 2"
   ]
  },
  {
   "cell_type": "code",
   "execution_count": 5,
   "id": "20a6b1dc",
   "metadata": {},
   "outputs": [],
   "source": [
    "dns_logs = [\n",
    "    {\"timestamp\": \"2024-11-21T10:00:00\", \"source_ip\": \"192.168.1.10\", \"query\": \"suspicious-domain.com\", \n",
    "     \"query_rate\": 150, \"destination_dns_server\": \"8.8.8.8\", \"domain_behavior\": \"suspicious\"},\n",
    "    {\"timestamp\": \"2024-11-21T10:01:00\", \"source_ip\": \"192.168.1.11\", \"query\": \"legitimate-domain.com\", \n",
    "     \"query_rate\": 10, \"destination_dns_server\": \"192.168.1.1\", \"domain_behavior\": \"normal\"},\n",
    "    {\"timestamp\": \"2024-11-21T10:02:00\", \"source_ip\": \"192.168.1.12\", \"query\": \"dga-domain.abc\", \n",
    "     \"query_rate\": 300, \"destination_dns_server\": \"8.8.4.4\", \"domain_behavior\": \"suspicious\"},\n",
    "    {\"timestamp\": \"2024-11-21T10:03:00\", \"source_ip\": \"192.168.1.13\", \"query\": \"encrypted-dns.example\", \n",
    "     \"query_rate\": 20, \"destination_dns_server\": \"1.1.1.1\", \"domain_behavior\": \"normal\"},\n",
    "    {\"timestamp\": \"2024-11-21T10:04:00\", \"source_ip\": \"192.168.1.14\", \"query\": \"dga-domain.def\", \n",
    "     \"query_rate\": 250, \"destination_dns_server\": \"8.8.8.8\", \"domain_behavior\": \"suspicious\"},\n",
    "]"
   ]
  },
  {
   "cell_type": "markdown",
   "id": "0e640ad1",
   "metadata": {},
   "source": [
    "## Stage 3"
   ]
  },
  {
   "cell_type": "code",
   "execution_count": 6,
   "id": "69cf6002",
   "metadata": {},
   "outputs": [],
   "source": [
    "network_logs = [\n",
    "    {\"timestamp\": \"2024-11-21T10:00:00\", \"source_ip\": \"192.168.1.10\", \"destination_ip\": \"203.0.113.10\", \n",
    "     \"traffic_volume\": \"500MB\", \"traffic_pattern\": \"coordinated_ddos\"},\n",
    "    {\"timestamp\": \"2024-11-21T10:01:00\", \"source_ip\": \"192.168.1.11\", \"destination_ip\": \"203.0.113.11\", \n",
    "     \"traffic_volume\": \"50MB\", \"traffic_pattern\": \"normal\"},\n",
    "    {\"timestamp\": \"2024-11-21T10:02:00\", \"source_ip\": \"192.168.1.12\", \"destination_ip\": \"203.0.113.12\", \n",
    "     \"traffic_volume\": \"600MB\", \"traffic_pattern\": \"coordinated_ddos\"},\n",
    "    {\"timestamp\": \"2024-11-21T10:03:00\", \"source_ip\": \"192.168.1.13\", \"destination_ip\": \"203.0.113.13\", \n",
    "     \"traffic_volume\": \"10MB\", \"traffic_pattern\": \"normal\"},\n",
    "    {\"timestamp\": \"2024-11-21T10:04:00\", \"source_ip\": \"192.168.1.14\", \"destination_ip\": \"203.0.113.14\", \n",
    "     \"traffic_volume\": \"550MB\", \"traffic_pattern\": \"coordinated_ddos\"},\n",
    "]\n"
   ]
  },
  {
   "cell_type": "markdown",
   "id": "7f4d90a7",
   "metadata": {},
   "source": [
    "# Création des csv"
   ]
  },
  {
   "cell_type": "code",
   "execution_count": 7,
   "id": "5f519c9a",
   "metadata": {},
   "outputs": [
    {
     "name": "stdout",
     "output_type": "stream",
     "text": [
      "Logs generated and saved as CSV files.\n"
     ]
    }
   ],
   "source": [
    "pd.DataFrame(sms_logs).to_csv('sms_logs.csv', index=False)\n",
    "pd.DataFrame(dns_logs).to_csv('dns_logs.csv', index=False)\n",
    "pd.DataFrame(network_logs).to_csv('network_traffic_logs.csv', index=False)\n",
    "\n",
    "print(\"Logs generated and saved as CSV files.\")"
   ]
  }
 ],
 "metadata": {
  "kernelspec": {
   "display_name": "Python 3 (ipykernel)",
   "language": "python",
   "name": "python3"
  },
  "language_info": {
   "codemirror_mode": {
    "name": "ipython",
    "version": 3
   },
   "file_extension": ".py",
   "mimetype": "text/x-python",
   "name": "python",
   "nbconvert_exporter": "python",
   "pygments_lexer": "ipython3",
   "version": "3.12.3"
  }
 },
 "nbformat": 4,
 "nbformat_minor": 5
}
