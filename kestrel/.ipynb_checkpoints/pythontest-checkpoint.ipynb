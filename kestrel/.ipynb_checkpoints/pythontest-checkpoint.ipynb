{
 "cells": [
  {
   "cell_type": "code",
   "execution_count": 4,
   "id": "2c76c179",
   "metadata": {},
   "outputs": [],
   "source": [
    "from kestrel.session import Session\n",
    "huntflow = \"\"\"testv3 = GET network-traffic FROM file:///home/vboxuser/Desktop/kestrel/dataMessage.json WHERE src_port > 0\"\"\"\n",
    "with Session() as session:\n",
    "    session.execute(huntflow)\n",
    "    sms_data = session.get_variable(\"testv3\")\n",
    "for sms in sms_data:\n",
    "    print(sms[\"src_port\"])"
   ]
  },
  {
   "cell_type": "code",
   "execution_count": null,
   "id": "a45725d8",
   "metadata": {},
   "outputs": [],
   "source": []
  },
  {
   "cell_type": "code",
   "execution_count": 9,
   "id": "421b72cd",
   "metadata": {},
   "outputs": [
    {
     "name": "stdout",
     "output_type": "stream",
     "text": [
      "Recipient's device IP address : 192.168.100.2\n",
      "Sender's IP address : 203.0.113.1\n"
     ]
    }
   ],
   "source": [
    "from kestrel.session import Session\n",
    "huntflow = \"\"\"testv3 = GET ipv4-addr FROM file:///home/vboxuser/Desktop/kestrel/dataMessage.json WHERE value != \"0\" \"\"\"\n",
    "with Session() as session:\n",
    "    session.execute(huntflow)\n",
    "    sms_data = session.get_variable(\"testv3\")\n",
    "for sms in sms_data:\n",
    "    print(sms[\"description\"] + \" : \" +sms[\"value\"])"
   ]
  }
 ],
 "metadata": {
  "kernelspec": {
   "display_name": "Python 3 (ipykernel)",
   "language": "python",
   "name": "python3"
  },
  "language_info": {
   "codemirror_mode": {
    "name": "ipython",
    "version": 3
   },
   "file_extension": ".py",
   "mimetype": "text/x-python",
   "name": "python",
   "nbconvert_exporter": "python",
   "pygments_lexer": "ipython3",
   "version": "3.12.3"
  }
 },
 "nbformat": 4,
 "nbformat_minor": 5
}
