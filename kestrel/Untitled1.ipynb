{
 "cells": [
  {
   "cell_type": "code",
   "execution_count": 11,
   "id": "36427834",
   "metadata": {},
   "outputs": [
    {
     "name": "stderr",
     "output_type": "stream",
     "text": [
      "[ERROR] KestrelSyntaxError: invalid token \"sms_logs_stix_1.json\" at line 1 column 21, expects one of ['WHERE', 'FROM']\n",
      "rewrite the failed statement."
     ]
    }
   ],
   "source": [
    "sms_data = GET FROM sms_logs_stix_1.json;\n"
   ]
  }
 ],
 "metadata": {
  "kernelspec": {
   "display_name": "Kestrel",
   "language": "kestrel",
   "name": "kestrel"
  },
  "language_info": {
   "file_extension": ".hf",
   "name": "kestrel"
  }
 },
 "nbformat": 4,
 "nbformat_minor": 5
}
